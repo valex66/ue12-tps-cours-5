{
 "cells": [
  {
   "cell_type": "markdown",
   "id": "dc33ab05",
   "metadata": {},
   "source": [
    "<div class=\"licence\">\n",
    "<span>Licence CC BY-NC-ND</span>\n",
    "<span>Thierry Parmentelat &amp; Arnaud Legout</span>\n",
    "</div>"
   ]
  },
  {
   "cell_type": "code",
   "execution_count": 1,
   "id": "e6ae79d5",
   "metadata": {
    "slideshow": {
     "slide_type": "slide"
    }
   },
   "outputs": [],
   "source": [
    "import numpy as np\n",
    "import matplotlib.pyplot as plt\n",
    "%matplotlib ipympl"
   ]
  },
  {
   "cell_type": "markdown",
   "id": "b85f3cff",
   "metadata": {},
   "source": [
    "# l'ensemble de Mandelbrot\n",
    "\n",
    "il s'agit de calculer l'image de la convergence de mandelbrot:\n",
    "\n",
    "<img src=\"media/mandelbrot.svg\">"
   ]
  },
  {
   "cell_type": "markdown",
   "id": "1eba05a7",
   "metadata": {},
   "source": [
    "## comment ça marche ?"
   ]
  },
  {
   "cell_type": "markdown",
   "id": "bca9ce2c",
   "metadata": {
    "cell_style": "center",
    "slideshow": {
     "slide_type": "slide"
    }
   },
   "source": [
    "* dans l'espace complexe, on définit pour chaque $c\\in\\mathbb{C}$ la suite\n",
    "   * $z_0 = c$\n",
    "   * $z_{n+1} = z_n^2 + c$\n",
    "* on démontre que \n",
    "  * lorsque $|z_n|>2$, la suite diverge"
   ]
  },
  {
   "cell_type": "markdown",
   "id": "5d5027c3",
   "metadata": {
    "cell_style": "center",
    "slideshow": {
     "slide_type": "-"
    }
   },
   "source": [
    "il s'agit pour nous de \n",
    "\n",
    "* partir d'un pavé rectangulaire  \n",
    "  par exemple sur la figure, on a pris l'habituel  \n",
    "  $re \\in [-2, 0.8]$ et  $im \\in [-1.4, 1.4]$\n",
    "* découper ce pavé en un maillage de $w \\times h$ points  \n",
    "  (sur la figure, 1000 x 1000)\n",
    "* on se fixe un nombre maximal `max` d'itérations (disons 20)\n",
    "  * et pour chaque point du maillage, on va calculer si la suite diverge avant `max` itérations\n",
    "* c'est-à-dire plus spécifiquement on calcule un tableau `diverge` de la taille du maillage\n",
    "  * pour chaque point `z`, on calcule les `max` premiers termes de la suite\n",
    "  * et à la première itération `n` où la suite diverge (son module est supérieur à 2)  \n",
    "    alors on affecte `diverge[z] = n`\n",
    "* on n'a plus qu'à afficher ensuite l'image obtenue avec `plt.imshow`"
   ]
  },
  {
   "cell_type": "markdown",
   "id": "e1c387d9",
   "metadata": {
    "slideshow": {
     "slide_type": "slide"
    }
   },
   "source": [
    "*indices*\n",
    "\n",
    "* pour fabriquer la grille des points de départ, \n",
    "  on pourra regarder `np.linspace` et `np.meshgrid`"
   ]
  },
  {
   "cell_type": "code",
   "execution_count": null,
   "id": "f8f176e6",
   "metadata": {},
   "outputs": [],
   "source": [
    "# à vous de jouer\n",
    "def mandelbrot(w, h):\n",
    "    pass"
   ]
  },
  {
   "cell_type": "markdown",
   "id": "0391fcf8",
   "metadata": {},
   "source": [
    "## v2\n",
    "\n",
    "* on peut passer en paramètre à la fonction\n",
    "  * le domaine en x et en y\n",
    "  * le nombre maximum d'itérations\n",
    "* on veut pouvoir produire une image (pour l'insérer dans l'énoncé par exemple)\n",
    "  * quels formats sont disponibles ?\n",
    "  * sauvez votre image dans un format vectoriel\n",
    "  * affichez cette depuis votre notebook"
   ]
  }
 ],
 "metadata": {
  "jupytext": {
   "cell_metadata_json": true,
   "encoding": "# -*- coding: utf-8 -*-"
  },
  "kernelspec": {
   "display_name": "ue12",
   "language": "python",
   "name": "python3"
  },
  "language_info": {
   "codemirror_mode": {
    "name": "ipython",
    "version": 3
   },
   "file_extension": ".py",
   "mimetype": "text/x-python",
   "name": "python",
   "nbconvert_exporter": "python",
   "pygments_lexer": "ipython3",
   "version": "3.13.0"
  },
  "notebookname": "Mandelbrot"
 },
 "nbformat": 4,
 "nbformat_minor": 5
}
