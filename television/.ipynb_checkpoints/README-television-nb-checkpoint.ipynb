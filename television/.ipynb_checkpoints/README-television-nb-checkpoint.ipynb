{
 "cells": [
  {
   "cell_type": "markdown",
   "id": "f80758d4",
   "metadata": {},
   "source": [
    "# television (nettoyage)"
   ]
  },
  {
   "cell_type": "markdown",
   "id": "12fe8b6f",
   "metadata": {},
   "source": [
    "cet exercice est originellement proposé ici:\n",
    "\n",
    "<http://www.xavierdupre.fr/app/ensae_teaching_cs/helpsphinx3/notebooks/td1a_cenonce_session_10.html#exercice-1-creer-un-fichier-excel>"
   ]
  },
  {
   "cell_type": "markdown",
   "id": "e8bbf20d",
   "metadata": {},
   "source": [
    "## imports"
   ]
  },
  {
   "cell_type": "code",
   "execution_count": 1,
   "id": "4c43e08d",
   "metadata": {},
   "outputs": [],
   "source": [
    "import numpy as np\n",
    "import pandas as pd"
   ]
  },
  {
   "cell_type": "markdown",
   "id": "1220d036",
   "metadata": {},
   "source": [
    "## la source"
   ]
  },
  {
   "cell_type": "markdown",
   "id": "874aa36b",
   "metadata": {},
   "source": [
    "l'idée est de se mettre en vraie situation; les données qu'on trouve ici ou là sont souvent très sales !"
   ]
  },
  {
   "cell_type": "code",
   "execution_count": null,
   "id": "996df754",
   "metadata": {},
   "outputs": [],
   "source": [
    "# sauf que si on le charge: ouh là !\n",
    "\n",
    "df = pd.read_csv(\"data/television.txt\", sep=\"\\t\")\n",
    "df"
   ]
  },
  {
   "cell_type": "code",
   "execution_count": null,
   "id": "75355165",
   "metadata": {},
   "outputs": [],
   "source": [
    "# et en particulier, ceci n'est pas du tout ce qu'on veut\n",
    "\n",
    "df.shape"
   ]
  },
  {
   "cell_type": "markdown",
   "id": "5c46340d",
   "metadata": {},
   "source": [
    "## survol de ce qu'il faut faire\n",
    "\n",
    "le TP comporte plusieurs étapes\n",
    "\n",
    "1. enlever les colonnes pleines de vide; pour fixer les idées, nous nettoyons **les colonnes qui contiennent seulement des n/a ou des 0**\n",
    " \n",
    "   dans le corrigé on va voir deux méthodes\n",
    "  * rapide\n",
    "  * manuelle: comment on ferait si le nettoyage devait être fait sur un critère plus spécifique; on verra comment faire sur la base d'une fonction qui, pour une colonne, indique si elle doit être gardée ou pas\n",
    "\n",
    "1. calculer les valeurs uniques de la colonne `cLT2FREQ`; le texte de l'exercice suggère qu'on doit trouver une poignée de valeurs\n",
    "\n",
    "1. à ce stade, combien de lignes ont leur `cLT2FREQ` non renseignée ?  \n",
    "  combien doit-on avoir de lignes si on nettoie sur cette base ?  \n",
    "  (i.e. si on enlève toutes les lignes qui n'ont pas cette colonne renseignée)\n",
    "  faites ce nettoyage et vérifiez votre résultat\n",
    "\n",
    "1. sauver le résultat dans un fichier excel\n",
    "\n",
    "toujours pour fixer les idées, on doit trouver à la fin une dataframe qui a une forme de `(7386, 4)`"
   ]
  },
  {
   "cell_type": "markdown",
   "id": "b322e4ad",
   "metadata": {},
   "source": [
    "---"
   ]
  },
  {
   "cell_type": "markdown",
   "id": "7a3e4b34",
   "metadata": {},
   "source": [
    "## colonnes vides"
   ]
  },
  {
   "cell_type": "markdown",
   "id": "7e004924",
   "metadata": {},
   "source": [
    "la première étape donc, consiste à supprimer les colonnes vides"
   ]
  },
  {
   "cell_type": "code",
   "execution_count": null,
   "id": "b2c5ac47",
   "metadata": {},
   "outputs": [],
   "source": [
    "# on recharge pour être sûr\n",
    "df = pd.read_csv(\"data/television.txt\", sep=\"\\t\")\n",
    "df.shape"
   ]
  },
  {
   "cell_type": "markdown",
   "id": "e7d35880",
   "metadata": {},
   "source": [
    "### la méthode rapide"
   ]
  },
  {
   "cell_type": "markdown",
   "id": "adfabe53",
   "metadata": {
    "tags": [
     "level_basic"
    ]
   },
   "source": [
    "le mieux c'est d'utiliser `dropna`: écrivez le code ci-dessous et **expliquez votre approche**."
   ]
  },
  {
   "cell_type": "code",
   "execution_count": null,
   "id": "cb31354a",
   "metadata": {},
   "outputs": [],
   "source": [
    "# à vous\n",
    "..."
   ]
  },
  {
   "cell_type": "code",
   "execution_count": null,
   "id": "e5aa4e7b",
   "metadata": {},
   "outputs": [],
   "source": [
    "# ceci doit afficher True\n",
    "df.shape == (8403, 4)"
   ]
  },
  {
   "cell_type": "code",
   "execution_count": null,
   "id": "78f10a3a",
   "metadata": {},
   "outputs": [],
   "source": [
    "df.head()"
   ]
  },
  {
   "cell_type": "markdown",
   "id": "4efbe3f5",
   "metadata": {},
   "source": [
    "### la méthode pédestre"
   ]
  },
  {
   "cell_type": "markdown",
   "id": "11dfa8f6",
   "metadata": {},
   "source": [
    "dans ce cas précis, `dropna` est le mieux bien sûr\n",
    "\n",
    "maintenant, dans certains cas le critère pour 'oublier' des colonnes peut être moins simple - imaginez par exemple qu'on veuille supprimer toutes les colonnes qui contiennent un certain pourcentage de valeurs parmi `GARBAGE` et `TRASH` et un vrai n/a...\n",
    "\n",
    "donc voyons comment on peut faire le même nettoyage, mais de manière plus fine"
   ]
  },
  {
   "cell_type": "code",
   "execution_count": null,
   "id": "9d7e391e",
   "metadata": {},
   "outputs": [],
   "source": [
    "# on recharge pour être sûr\n",
    "df = pd.read_csv(\"data/television.txt\", sep=\"\\t\")"
   ]
  },
  {
   "cell_type": "markdown",
   "id": "89613514",
   "metadata": {
    "tags": [
     "level_basic"
    ]
   },
   "source": [
    "en deux étapes:\n",
    "\n",
    "d'abord comment feriez-vous, étant donné le nom d'une colonne, pour savoir si elle est pleine de vide ?"
   ]
  },
  {
   "cell_type": "code",
   "execution_count": null,
   "id": "8b9bf654",
   "metadata": {},
   "outputs": [],
   "source": [
    "# à vous \n",
    "def is_empty_column(df, colname):\n",
    "    ..."
   ]
  },
  {
   "cell_type": "code",
   "execution_count": null,
   "id": "7062c5c2",
   "metadata": {
    "cell_style": "split"
   },
   "outputs": [],
   "source": [
    "# ceci doit afficher True\n",
    "\n",
    "# on teste\n",
    "col1 = 'POIDLOG'\n",
    "not is_empty_column(df, col1)"
   ]
  },
  {
   "cell_type": "code",
   "execution_count": null,
   "id": "aa25888a",
   "metadata": {
    "cell_style": "split"
   },
   "outputs": [],
   "source": [
    "# ceci doit afficher True\n",
    "\n",
    "col5 = 'Unnamed: 4'\n",
    "is_empty_column(df, col5)"
   ]
  },
  {
   "cell_type": "markdown",
   "id": "edc401e1",
   "metadata": {
    "hide_input": true,
    "tags": [
     "level_basic"
    ]
   },
   "source": [
    "ensuite il ne reste qu'à calculer la liste des colonnes vides, pour la passer à `df.drop()`"
   ]
  },
  {
   "cell_type": "code",
   "execution_count": null,
   "id": "fb915a82",
   "metadata": {},
   "outputs": [],
   "source": [
    "# à vous\n",
    "\n",
    "# calculez la liste des colonnes vides\n",
    "empty_columns = ...\n",
    "\n",
    "# puis utilisez df.drop"
   ]
  },
  {
   "cell_type": "code",
   "execution_count": null,
   "id": "8fee53f1",
   "metadata": {},
   "outputs": [],
   "source": [
    "# ceci doit afficher True\n",
    "df.shape == (8403, 4)"
   ]
  },
  {
   "cell_type": "markdown",
   "id": "85899bc3",
   "metadata": {},
   "source": [
    "Bien sûr on a découpé le problème en deux mais en fait ça peut se récrire en une seule ligne"
   ]
  },
  {
   "cell_type": "code",
   "execution_count": null,
   "id": "5aff6948",
   "metadata": {},
   "outputs": [],
   "source": [
    "# en option\n",
    "\n",
    "# à vous\n",
    "\n",
    "# récrire tout ceci en une seule passe"
   ]
  },
  {
   "cell_type": "code",
   "execution_count": null,
   "id": "cac884b1",
   "metadata": {},
   "outputs": [],
   "source": [
    "# ceci doit afficher True\n",
    "df.shape == (8403, 4)"
   ]
  },
  {
   "cell_type": "markdown",
   "id": "27ca3848",
   "metadata": {},
   "source": [
    "## obtenir les valeurs distinctes"
   ]
  },
  {
   "cell_type": "markdown",
   "id": "1ee0c87b",
   "metadata": {},
   "source": [
    "comment obtenir les valeurs distinctes de la colonne `cLT2FREQ`"
   ]
  },
  {
   "cell_type": "markdown",
   "id": "51292635",
   "metadata": {},
   "source": [
    "le texte de l'exercice initial nous apprend qu'on ne devrait avoir que 3 valeurs; \n",
    "et une inspection visuelle rapide vous le confirme, plus la présence de pas mal de vide dans cette colonne"
   ]
  },
  {
   "cell_type": "markdown",
   "id": "4d18a02b",
   "metadata": {
    "tags": [
     "level_basic"
    ]
   },
   "source": [
    "la méthode la plus simple consiste à utiliser [`Series.unique`](https://pandas.pydata.org/pandas-docs/stable/reference/api/pandas.Series.unique.html) qui renvoie le résultat sous la forme d'un `numpy.ndarray`"
   ]
  },
  {
   "cell_type": "code",
   "execution_count": null,
   "id": "dcd71801",
   "metadata": {},
   "outputs": [],
   "source": [
    "# à vous\n",
    "uniques = ..."
   ]
  },
  {
   "cell_type": "code",
   "execution_count": null,
   "id": "88440570",
   "metadata": {},
   "outputs": [],
   "source": [
    "uniques"
   ]
  },
  {
   "cell_type": "code",
   "execution_count": null,
   "id": "06f4c50a",
   "metadata": {
    "tags": [
     "raises-exception"
    ]
   },
   "outputs": [],
   "source": [
    "# ceci doit afficher True\n",
    "uniques.sort()\n",
    "np.all(uniques[:-1] == np.arange(1, 4)) and np.isnan(uniques[-1])"
   ]
  },
  {
   "cell_type": "code",
   "execution_count": null,
   "id": "6905ec7b",
   "metadata": {
    "tags": [
     "level_basic",
     "raises-exception"
    ]
   },
   "outputs": [],
   "source": [
    "# point de réflexion : pourquoi ceci ne renvoie-t-il pas True ?\n",
    "uniques.sort()\n",
    "np.all(uniques == np.array([1., 2., 3., np.nan]))"
   ]
  },
  {
   "cell_type": "markdown",
   "id": "9f0ccc80",
   "metadata": {},
   "source": [
    "## compter les lignes à nettoyer"
   ]
  },
  {
   "cell_type": "markdown",
   "id": "b156b0da",
   "metadata": {
    "tags": [
     "level_basic"
    ]
   },
   "source": [
    "on veut maintenant nettoyer les données en enlevant les lignes qui n'ont pas la colonne `cLT2FREQ` renseignée\n",
    "\n",
    "dans un premier temps on vous demande de calculer le nombre de lignes concernées"
   ]
  },
  {
   "cell_type": "code",
   "execution_count": null,
   "id": "7e1b6fa9",
   "metadata": {},
   "outputs": [],
   "source": [
    "# à vous\n",
    "nb_lines_to_clean = ..."
   ]
  },
  {
   "cell_type": "code",
   "execution_count": null,
   "id": "27dd8df4",
   "metadata": {
    "tags": [
     "raises-exception"
    ]
   },
   "outputs": [],
   "source": [
    "# ceci doit afficher True\n",
    "\n",
    "nb_lines_to_clean == 1017"
   ]
  },
  {
   "cell_type": "code",
   "execution_count": null,
   "id": "ad9d00c4",
   "metadata": {},
   "outputs": [],
   "source": [
    "# ce qui signifie qu'à la fin on doit avoir ce nombre de lignes\n",
    "8403-1017"
   ]
  },
  {
   "cell_type": "code",
   "execution_count": null,
   "id": "f59f9f12",
   "metadata": {
    "tags": [
     "raises-exception"
    ]
   },
   "outputs": [],
   "source": [
    "# ou encore, plus proprement\n",
    "expected_lines = len(df) - nb_lines_to_clean\n",
    "expected_lines"
   ]
  },
  {
   "cell_type": "markdown",
   "id": "165cf084",
   "metadata": {},
   "source": [
    "## nettoyage des lignes"
   ]
  },
  {
   "cell_type": "markdown",
   "id": "5a91a990",
   "metadata": {},
   "source": [
    "### option 1: `df.drop()`"
   ]
  },
  {
   "cell_type": "code",
   "execution_count": null,
   "id": "66e489e4",
   "metadata": {
    "hide_input": false
   },
   "outputs": [],
   "source": [
    "# on recharge à tout hasard (ré-utilisez le code de nettoyage que vous avez réalisé préalablement)\n",
    "df = pd.read_csv(\"data/television.txt\", sep=\"\\t\").dropna(...)\n",
    "print(df.shape)"
   ]
  },
  {
   "cell_type": "markdown",
   "id": "04fd9d84",
   "metadata": {},
   "source": [
    "remarquez que `df.drop` prend un paramètre optionnel `inplace` qui peut être souvent utile"
   ]
  },
  {
   "cell_type": "code",
   "execution_count": null,
   "id": "56e19c6d",
   "metadata": {},
   "outputs": [],
   "source": [
    "#df.drop?"
   ]
  },
  {
   "cell_type": "code",
   "execution_count": null,
   "id": "048efcde",
   "metadata": {},
   "outputs": [],
   "source": []
  },
  {
   "cell_type": "markdown",
   "id": "9c48993e",
   "metadata": {
    "tags": [
     "level_basic"
    ]
   },
   "source": [
    "option 1: on peut utiliser `df.drop()`, l'avantage étant qu'on peut faire l'opération en place"
   ]
  },
  {
   "cell_type": "code",
   "execution_count": null,
   "id": "a591f595",
   "metadata": {},
   "outputs": [],
   "source": [
    "# à vous\n"
   ]
  },
  {
   "cell_type": "code",
   "execution_count": null,
   "id": "8192a602",
   "metadata": {
    "tags": [
     "raises-exception"
    ]
   },
   "outputs": [],
   "source": [
    "# ceci doit afficher True\n",
    "\n",
    "# la forme après nettoyage\n",
    "df.shape == (7386, 4)"
   ]
  },
  {
   "cell_type": "markdown",
   "id": "b3115e9e",
   "metadata": {},
   "source": [
    "### option 2: sélection avec un masque et `[]`"
   ]
  },
  {
   "cell_type": "code",
   "execution_count": null,
   "id": "3ccd6efe",
   "metadata": {
    "hide_input": false
   },
   "outputs": [],
   "source": [
    "# on recharge à tout hasard (ré-utilisez le code de nettoyage que vous avez réalisé préalablement)\n",
    "df = pd.read_csv(\"data/television.txt\", sep=\"\\t\").dropna(...)\n",
    "print(df.shape)"
   ]
  },
  {
   "cell_type": "markdown",
   "id": "541d380f",
   "metadata": {
    "tags": [
     "level_basic"
    ]
   },
   "source": [
    "option 2: il y a plein d'autres façons de faire, on peut aussi utiliser tout simplement un masque"
   ]
  },
  {
   "cell_type": "code",
   "execution_count": null,
   "id": "37dbc248",
   "metadata": {},
   "outputs": [],
   "source": [
    "# à vous\n",
    "df = ..."
   ]
  },
  {
   "cell_type": "code",
   "execution_count": null,
   "id": "c4d03b1d",
   "metadata": {
    "tags": [
     "raises-exception"
    ]
   },
   "outputs": [],
   "source": [
    "# ceci doit afficher True\n",
    "\n",
    "# la forme après nettoyage\n",
    "df.shape == (7386, 4)"
   ]
  },
  {
   "cell_type": "markdown",
   "id": "5590f189",
   "metadata": {},
   "source": [
    "## sauver un fichier excel"
   ]
  },
  {
   "cell_type": "code",
   "execution_count": null,
   "id": "ef7c8fe6",
   "metadata": {},
   "outputs": [],
   "source": [
    "!pip install openpyxl"
   ]
  },
  {
   "cell_type": "markdown",
   "id": "ffd9b2b9",
   "metadata": {
    "hide_input": true,
    "tags": [
     "level_basic"
    ]
   },
   "source": [
    "je vous laisse conclure le TP, il s'agit d'enregistrer nos données nettoyées dans un fichier excel"
   ]
  },
  {
   "cell_type": "code",
   "execution_count": null,
   "id": "b58c2390",
   "metadata": {},
   "outputs": [],
   "source": [
    "# à vous\n",
    "\n",
    "filename = \"television.xlsx\"\n"
   ]
  },
  {
   "cell_type": "markdown",
   "id": "8522fdf3",
   "metadata": {},
   "source": [
    "je vous laisse éventuellement vérifier votre code en rechargeant sous excel le fichier produit"
   ]
  },
  {
   "cell_type": "markdown",
   "id": "03dbc347",
   "metadata": {},
   "source": [
    "![](media/television.png)"
   ]
  },
  {
   "cell_type": "markdown",
   "id": "57bd1c93",
   "metadata": {},
   "source": [
    "***"
   ]
  }
 ],
 "metadata": {
  "jupytext": {
   "cell_metadata_filter": "all, -hidden, -heading_collapsed, -run_control, -trusted",
   "encoding": "# -*- coding: utf-8 -*-",
   "notebook_metadata_filter": "all, -jupytext.text_representation.jupytext_version, -jupytext.text_representation.format_version, -language_info.version, -language_info.codemirror_mode.version, -language_info.codemirror_mode, -language_info.file_extension, -language_info.mimetype, -toc"
  },
  "kernelspec": {
   "display_name": "ue12",
   "language": "python",
   "name": "python3"
  },
  "language_info": {
   "codemirror_mode": {
    "name": "ipython",
    "version": 3
   },
   "file_extension": ".py",
   "mimetype": "text/x-python",
   "name": "python",
   "nbconvert_exporter": "python",
   "pygments_lexer": "ipython3",
   "version": "3.13.0"
  },
  "nbhosting": {
   "show_up_down_buttons": true,
   "title": "exo nettoyage"
  }
 },
 "nbformat": 4,
 "nbformat_minor": 5
}
