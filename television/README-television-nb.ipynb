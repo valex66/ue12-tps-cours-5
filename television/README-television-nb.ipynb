{
 "cells": [
  {
   "cell_type": "markdown",
   "id": "f80758d4",
   "metadata": {},
   "source": [
    "# television (nettoyage)"
   ]
  },
  {
   "cell_type": "markdown",
   "id": "12fe8b6f",
   "metadata": {},
   "source": [
    "cet exercice est originellement proposé ici:\n",
    "\n",
    "<http://www.xavierdupre.fr/app/ensae_teaching_cs/helpsphinx3/notebooks/td1a_cenonce_session_10.html#exercice-1-creer-un-fichier-excel>"
   ]
  },
  {
   "cell_type": "markdown",
   "id": "e8bbf20d",
   "metadata": {},
   "source": [
    "## imports"
   ]
  },
  {
   "cell_type": "code",
   "execution_count": 1,
   "id": "4c43e08d",
   "metadata": {},
   "outputs": [],
   "source": [
    "import numpy as np\n",
    "import pandas as pd"
   ]
  },
  {
   "cell_type": "markdown",
   "id": "1220d036",
   "metadata": {},
   "source": [
    "## la source"
   ]
  },
  {
   "cell_type": "markdown",
   "id": "874aa36b",
   "metadata": {},
   "source": [
    "l'idée est de se mettre en vraie situation; les données qu'on trouve ici ou là sont souvent très sales !"
   ]
  },
  {
   "cell_type": "code",
   "execution_count": 42,
   "id": "996df754",
   "metadata": {},
   "outputs": [
    {
     "data": {
      "text/plain": [
       "array([nan])"
      ]
     },
     "execution_count": 42,
     "metadata": {},
     "output_type": "execute_result"
    }
   ],
   "source": [
    "# sauf que si on le charge: ouh là !\n",
    "\n",
    "df = pd.read_csv(\"data/television.txt\", sep=\"\\t\")\n",
    "df.columns\n",
    "df['Unnamed: 9'].unique()\n"
   ]
  },
  {
   "cell_type": "code",
   "execution_count": 3,
   "id": "75355165",
   "metadata": {},
   "outputs": [
    {
     "data": {
      "text/plain": [
       "(8403, 32)"
      ]
     },
     "execution_count": 3,
     "metadata": {},
     "output_type": "execute_result"
    }
   ],
   "source": [
    "# et en particulier, ceci n'est pas du tout ce qu'on veut\n",
    "\n",
    "df.shape"
   ]
  },
  {
   "cell_type": "markdown",
   "id": "5c46340d",
   "metadata": {},
   "source": [
    "## survol de ce qu'il faut faire\n",
    "\n",
    "le TP comporte plusieurs étapes\n",
    "\n",
    "1. enlever les colonnes pleines de vide; pour fixer les idées, nous nettoyons **les colonnes qui contiennent seulement des n/a ou des 0**\n",
    " \n",
    "   dans le corrigé on va voir deux méthodes\n",
    "  * rapide\n",
    "  * manuelle: comment on ferait si le nettoyage devait être fait sur un critère plus spécifique; on verra comment faire sur la base d'une fonction qui, pour une colonne, indique si elle doit être gardée ou pas\n",
    "\n",
    "1. calculer les valeurs uniques de la colonne `cLT2FREQ`; le texte de l'exercice suggère qu'on doit trouver une poignée de valeurs\n",
    "\n",
    "1. à ce stade, combien de lignes ont leur `cLT2FREQ` non renseignée ?  \n",
    "  combien doit-on avoir de lignes si on nettoie sur cette base ?  \n",
    "  (i.e. si on enlève toutes les lignes qui n'ont pas cette colonne renseignée)\n",
    "  faites ce nettoyage et vérifiez votre résultat\n",
    "\n",
    "1. sauver le résultat dans un fichier excel\n",
    "\n",
    "toujours pour fixer les idées, on doit trouver à la fin une dataframe qui a une forme de `(7386, 4)`"
   ]
  },
  {
   "cell_type": "markdown",
   "id": "b322e4ad",
   "metadata": {},
   "source": [
    "---"
   ]
  },
  {
   "cell_type": "markdown",
   "id": "7a3e4b34",
   "metadata": {},
   "source": [
    "## colonnes vides"
   ]
  },
  {
   "cell_type": "markdown",
   "id": "7e004924",
   "metadata": {},
   "source": [
    "la première étape donc, consiste à supprimer les colonnes vides"
   ]
  },
  {
   "cell_type": "code",
   "execution_count": 4,
   "id": "b2c5ac47",
   "metadata": {},
   "outputs": [
    {
     "data": {
      "text/plain": [
       "(8403, 32)"
      ]
     },
     "execution_count": 4,
     "metadata": {},
     "output_type": "execute_result"
    }
   ],
   "source": [
    "# on recharge pour être sûr\n",
    "df = pd.read_csv(\"data/television.txt\", sep=\"\\t\")\n",
    "df.shape"
   ]
  },
  {
   "cell_type": "markdown",
   "id": "e7d35880",
   "metadata": {},
   "source": [
    "### la méthode rapide"
   ]
  },
  {
   "cell_type": "markdown",
   "id": "adfabe53",
   "metadata": {
    "tags": [
     "level_basic"
    ]
   },
   "source": [
    "le mieux c'est d'utiliser `dropna`: écrivez le code ci-dessous et **expliquez votre approche**."
   ]
  },
  {
   "cell_type": "code",
   "execution_count": 14,
   "id": "cb31354a",
   "metadata": {},
   "outputs": [],
   "source": [
    "# à vous\n",
    "df=df.dropna(axis=1, how='all')\n"
   ]
  },
  {
   "cell_type": "code",
   "execution_count": 15,
   "id": "e5aa4e7b",
   "metadata": {},
   "outputs": [
    {
     "data": {
      "text/plain": [
       "True"
      ]
     },
     "execution_count": 15,
     "metadata": {},
     "output_type": "execute_result"
    }
   ],
   "source": [
    "# ceci doit afficher True\n",
    "df.shape == (8403, 4)"
   ]
  },
  {
   "cell_type": "code",
   "execution_count": 18,
   "id": "78f10a3a",
   "metadata": {},
   "outputs": [
    {
     "data": {
      "text/plain": [
       "array([0.88942183, 2.31020928, 2.74006977, ..., 2.50118102, 1.38275806,\n",
       "       0.34333972])"
      ]
     },
     "execution_count": 18,
     "metadata": {},
     "output_type": "execute_result"
    }
   ],
   "source": [
    "df.head()\n"
   ]
  },
  {
   "cell_type": "markdown",
   "id": "4efbe3f5",
   "metadata": {},
   "source": [
    "### la méthode pédestre"
   ]
  },
  {
   "cell_type": "markdown",
   "id": "11dfa8f6",
   "metadata": {},
   "source": [
    "dans ce cas précis, `dropna` est le mieux bien sûr\n",
    "\n",
    "maintenant, dans certains cas le critère pour 'oublier' des colonnes peut être moins simple - imaginez par exemple qu'on veuille supprimer toutes les colonnes qui contiennent un certain pourcentage de valeurs parmi `GARBAGE` et `TRASH` et un vrai n/a...\n",
    "\n",
    "donc voyons comment on peut faire le même nettoyage, mais de manière plus fine"
   ]
  },
  {
   "cell_type": "code",
   "execution_count": null,
   "id": "9d7e391e",
   "metadata": {},
   "outputs": [],
   "source": [
    "# on recharge pour être sûr\n",
    "df = pd.read_csv(\"data/television.txt\", sep=\"\\t\")"
   ]
  },
  {
   "cell_type": "markdown",
   "id": "89613514",
   "metadata": {
    "tags": [
     "level_basic"
    ]
   },
   "source": [
    "en deux étapes:\n",
    "\n",
    "d'abord comment feriez-vous, étant donné le nom d'une colonne, pour savoir si elle est pleine de vide ?"
   ]
  },
  {
   "cell_type": "code",
   "execution_count": 71,
   "id": "8b9bf654",
   "metadata": {},
   "outputs": [],
   "source": [
    "# à vous \n",
    "def is_empty_column(df, colname):\n",
    "    return df[colname].isna().all()==True"
   ]
  },
  {
   "cell_type": "code",
   "execution_count": 72,
   "id": "7062c5c2",
   "metadata": {
    "cell_style": "split"
   },
   "outputs": [
    {
     "data": {
      "text/plain": [
       "True"
      ]
     },
     "execution_count": 72,
     "metadata": {},
     "output_type": "execute_result"
    }
   ],
   "source": [
    "# ceci doit afficher True\n",
    "\n",
    "# on teste\n",
    "col1 = 'POIDLOG'\n",
    "not is_empty_column(df, col1)"
   ]
  },
  {
   "cell_type": "code",
   "execution_count": 73,
   "id": "aa25888a",
   "metadata": {
    "cell_style": "split"
   },
   "outputs": [
    {
     "data": {
      "text/plain": [
       "np.True_"
      ]
     },
     "execution_count": 73,
     "metadata": {},
     "output_type": "execute_result"
    }
   ],
   "source": [
    "# ceci doit afficher True\n",
    "\n",
    "col5 = 'Unnamed: 4'\n",
    "\n",
    "df[col5].unique()\n",
    "is_empty_column(df, col5)"
   ]
  },
  {
   "cell_type": "markdown",
   "id": "edc401e1",
   "metadata": {
    "hide_input": true,
    "tags": [
     "level_basic"
    ]
   },
   "source": [
    "ensuite il ne reste qu'à calculer la liste des colonnes vides, pour la passer à `df.drop()`"
   ]
  },
  {
   "cell_type": "code",
   "execution_count": 81,
   "id": "fb915a82",
   "metadata": {},
   "outputs": [],
   "source": [
    "# à vous\n",
    "columns= df.columns\n",
    "mask=[is_empty_column(df, k) for k in columns]\n",
    "# calculez la liste des colonnes vides\n",
    "empty_columns = columns[mask]\n",
    "\n",
    "# puis utilisez df.drop\n",
    "\n",
    "df=df.drop(axis=1,labels=empty_columns)"
   ]
  },
  {
   "cell_type": "code",
   "execution_count": 82,
   "id": "8fee53f1",
   "metadata": {},
   "outputs": [
    {
     "data": {
      "text/plain": [
       "True"
      ]
     },
     "execution_count": 82,
     "metadata": {},
     "output_type": "execute_result"
    }
   ],
   "source": [
    "# ceci doit afficher True\n",
    "df.shape == (8403, 4)"
   ]
  },
  {
   "cell_type": "markdown",
   "id": "85899bc3",
   "metadata": {},
   "source": [
    "Bien sûr on a découpé le problème en deux mais en fait ça peut se récrire en une seule ligne"
   ]
  },
  {
   "cell_type": "code",
   "execution_count": 86,
   "id": "5aff6948",
   "metadata": {},
   "outputs": [
    {
     "ename": "SyntaxError",
     "evalue": "invalid syntax. Perhaps you forgot a comma? (3190631353.py, line 7)",
     "output_type": "error",
     "traceback": [
      "\u001b[1;36m  Cell \u001b[1;32mIn[86], line 7\u001b[1;36m\u001b[0m\n\u001b[1;33m    df=df.drop(axis=1,labels=df.columns[is_empty_column(df, k) for k in df.columns])\u001b[0m\n\u001b[1;37m                             ^\u001b[0m\n\u001b[1;31mSyntaxError\u001b[0m\u001b[1;31m:\u001b[0m invalid syntax. Perhaps you forgot a comma?\n"
     ]
    }
   ],
   "source": [
    "# en option\n",
    "\n",
    "# à vous\n",
    "\n",
    "# récrire tout ceci en une seule passe\n",
    "\n",
    "df=df.drop(axis=1,labels=df.columns[is_empty_column(df, k) for k in df.columns])"
   ]
  },
  {
   "cell_type": "code",
   "execution_count": 87,
   "id": "cac884b1",
   "metadata": {},
   "outputs": [
    {
     "data": {
      "text/plain": [
       "True"
      ]
     },
     "execution_count": 87,
     "metadata": {},
     "output_type": "execute_result"
    }
   ],
   "source": [
    "# ceci doit afficher True\n",
    "df.shape == (8403, 4)"
   ]
  },
  {
   "cell_type": "markdown",
   "id": "27ca3848",
   "metadata": {},
   "source": [
    "## obtenir les valeurs distinctes"
   ]
  },
  {
   "cell_type": "markdown",
   "id": "1ee0c87b",
   "metadata": {},
   "source": [
    "comment obtenir les valeurs distinctes de la colonne `cLT2FREQ`"
   ]
  },
  {
   "cell_type": "markdown",
   "id": "51292635",
   "metadata": {},
   "source": [
    "le texte de l'exercice initial nous apprend qu'on ne devrait avoir que 3 valeurs; \n",
    "et une inspection visuelle rapide vous le confirme, plus la présence de pas mal de vide dans cette colonne"
   ]
  },
  {
   "cell_type": "markdown",
   "id": "4d18a02b",
   "metadata": {
    "tags": [
     "level_basic"
    ]
   },
   "source": [
    "la méthode la plus simple consiste à utiliser [`Series.unique`](https://pandas.pydata.org/pandas-docs/stable/reference/api/pandas.Series.unique.html) qui renvoie le résultat sous la forme d'un `numpy.ndarray`"
   ]
  },
  {
   "cell_type": "code",
   "execution_count": 88,
   "id": "dcd71801",
   "metadata": {},
   "outputs": [],
   "source": [
    "# à vous\n",
    "uniques = df['cLT2FREQ'].unique()"
   ]
  },
  {
   "cell_type": "code",
   "execution_count": 89,
   "id": "88440570",
   "metadata": {},
   "outputs": [
    {
     "data": {
      "text/plain": [
       "array([ 1.,  2., nan,  3.])"
      ]
     },
     "execution_count": 89,
     "metadata": {},
     "output_type": "execute_result"
    }
   ],
   "source": [
    "uniques"
   ]
  },
  {
   "cell_type": "code",
   "execution_count": 90,
   "id": "06f4c50a",
   "metadata": {
    "tags": [
     "raises-exception"
    ]
   },
   "outputs": [
    {
     "data": {
      "text/plain": [
       "np.True_"
      ]
     },
     "execution_count": 90,
     "metadata": {},
     "output_type": "execute_result"
    }
   ],
   "source": [
    "# ceci doit afficher True\n",
    "uniques.sort()\n",
    "np.all(uniques[:-1] == np.arange(1, 4)) and np.isnan(uniques[-1])"
   ]
  },
  {
   "cell_type": "code",
   "execution_count": 99,
   "id": "6905ec7b",
   "metadata": {
    "tags": [
     "level_basic",
     "raises-exception"
    ]
   },
   "outputs": [
    {
     "data": {
      "text/plain": [
       "False"
      ]
     },
     "execution_count": 99,
     "metadata": {},
     "output_type": "execute_result"
    }
   ],
   "source": [
    "# point de réflexion : pourquoi ceci ne renvoie-t-il pas True ?\n",
    "uniques.sort()\n",
    "np.nan== np.nan\n",
    "np.all(uniques == np.array([1., 2., 3., np.nan])\n",
    "                           \n",
    " # NaN c'est comme pour dire 'pas défini' donc on ne peut pas faire d'opérations avec, sinon on aurait des problèmes "
   ]
  },
  {
   "cell_type": "markdown",
   "id": "9f0ccc80",
   "metadata": {},
   "source": [
    "## compter les lignes à nettoyer"
   ]
  },
  {
   "cell_type": "markdown",
   "id": "b156b0da",
   "metadata": {
    "tags": [
     "level_basic"
    ]
   },
   "source": [
    "on veut maintenant nettoyer les données en enlevant les lignes qui n'ont pas la colonne `cLT2FREQ` renseignée\n",
    "\n",
    "dans un premier temps on vous demande de calculer le nombre de lignes concernées"
   ]
  },
  {
   "cell_type": "code",
   "execution_count": 102,
   "id": "7e1b6fa9",
   "metadata": {},
   "outputs": [
    {
     "data": {
      "text/plain": [
       "np.int64(1017)"
      ]
     },
     "execution_count": 102,
     "metadata": {},
     "output_type": "execute_result"
    }
   ],
   "source": [
    "# à vous\n",
    "nb_lines_to_clean = df['cLT2FREQ'].isna().sum()\n",
    "nb_lines_to_clean\n"
   ]
  },
  {
   "cell_type": "code",
   "execution_count": 103,
   "id": "27dd8df4",
   "metadata": {
    "tags": [
     "raises-exception"
    ]
   },
   "outputs": [
    {
     "data": {
      "text/plain": [
       "np.True_"
      ]
     },
     "execution_count": 103,
     "metadata": {},
     "output_type": "execute_result"
    }
   ],
   "source": [
    "# ceci doit afficher True\n",
    "\n",
    "nb_lines_to_clean == 1017"
   ]
  },
  {
   "cell_type": "code",
   "execution_count": 104,
   "id": "ad9d00c4",
   "metadata": {},
   "outputs": [
    {
     "data": {
      "text/plain": [
       "7386"
      ]
     },
     "execution_count": 104,
     "metadata": {},
     "output_type": "execute_result"
    }
   ],
   "source": [
    "# ce qui signifie qu'à la fin on doit avoir ce nombre de lignes\n",
    "8403-1017"
   ]
  },
  {
   "cell_type": "code",
   "execution_count": 105,
   "id": "f59f9f12",
   "metadata": {
    "tags": [
     "raises-exception"
    ]
   },
   "outputs": [
    {
     "data": {
      "text/plain": [
       "np.int64(7386)"
      ]
     },
     "execution_count": 105,
     "metadata": {},
     "output_type": "execute_result"
    }
   ],
   "source": [
    "# ou encore, plus proprement\n",
    "expected_lines = len(df) - nb_lines_to_clean\n",
    "expected_lines"
   ]
  },
  {
   "cell_type": "markdown",
   "id": "165cf084",
   "metadata": {},
   "source": [
    "## nettoyage des lignes"
   ]
  },
  {
   "cell_type": "markdown",
   "id": "5a91a990",
   "metadata": {},
   "source": [
    "### option 1: `df.drop()`"
   ]
  },
  {
   "cell_type": "code",
   "execution_count": 107,
   "id": "66e489e4",
   "metadata": {
    "hide_input": false
   },
   "outputs": [
    {
     "name": "stdout",
     "output_type": "stream",
     "text": [
      "(8403, 4)\n"
     ]
    }
   ],
   "source": [
    "# on recharge à tout hasard (ré-utilisez le code de nettoyage que vous avez réalisé préalablement)\n",
    "df = pd.read_csv(\"data/television.txt\", sep=\"\\t\").dropna(axis=1,how='all')\n",
    "print(df.shape)"
   ]
  },
  {
   "cell_type": "markdown",
   "id": "04fd9d84",
   "metadata": {},
   "source": [
    "remarquez que `df.drop` prend un paramètre optionnel `inplace` qui peut être souvent utile"
   ]
  },
  {
   "cell_type": "code",
   "execution_count": 108,
   "id": "56e19c6d",
   "metadata": {},
   "outputs": [
    {
     "data": {
      "text/plain": [
       "\u001b[1;31mSignature:\u001b[0m\n",
       "\u001b[0mdf\u001b[0m\u001b[1;33m.\u001b[0m\u001b[0mdrop\u001b[0m\u001b[1;33m(\u001b[0m\u001b[1;33m\n",
       "\u001b[0m    \u001b[0mlabels\u001b[0m\u001b[1;33m:\u001b[0m \u001b[1;34m'IndexLabel | None'\u001b[0m \u001b[1;33m=\u001b[0m \u001b[1;32mNone\u001b[0m\u001b[1;33m,\u001b[0m\u001b[1;33m\n",
       "\u001b[0m    \u001b[1;33m*\u001b[0m\u001b[1;33m,\u001b[0m\u001b[1;33m\n",
       "\u001b[0m    \u001b[0maxis\u001b[0m\u001b[1;33m:\u001b[0m \u001b[1;34m'Axis'\u001b[0m \u001b[1;33m=\u001b[0m \u001b[1;36m0\u001b[0m\u001b[1;33m,\u001b[0m\u001b[1;33m\n",
       "\u001b[0m    \u001b[0mindex\u001b[0m\u001b[1;33m:\u001b[0m \u001b[1;34m'IndexLabel | None'\u001b[0m \u001b[1;33m=\u001b[0m \u001b[1;32mNone\u001b[0m\u001b[1;33m,\u001b[0m\u001b[1;33m\n",
       "\u001b[0m    \u001b[0mcolumns\u001b[0m\u001b[1;33m:\u001b[0m \u001b[1;34m'IndexLabel | None'\u001b[0m \u001b[1;33m=\u001b[0m \u001b[1;32mNone\u001b[0m\u001b[1;33m,\u001b[0m\u001b[1;33m\n",
       "\u001b[0m    \u001b[0mlevel\u001b[0m\u001b[1;33m:\u001b[0m \u001b[1;34m'Level | None'\u001b[0m \u001b[1;33m=\u001b[0m \u001b[1;32mNone\u001b[0m\u001b[1;33m,\u001b[0m\u001b[1;33m\n",
       "\u001b[0m    \u001b[0minplace\u001b[0m\u001b[1;33m:\u001b[0m \u001b[1;34m'bool'\u001b[0m \u001b[1;33m=\u001b[0m \u001b[1;32mFalse\u001b[0m\u001b[1;33m,\u001b[0m\u001b[1;33m\n",
       "\u001b[0m    \u001b[0merrors\u001b[0m\u001b[1;33m:\u001b[0m \u001b[1;34m'IgnoreRaise'\u001b[0m \u001b[1;33m=\u001b[0m \u001b[1;34m'raise'\u001b[0m\u001b[1;33m,\u001b[0m\u001b[1;33m\n",
       "\u001b[0m\u001b[1;33m)\u001b[0m \u001b[1;33m->\u001b[0m \u001b[1;34m'DataFrame | None'\u001b[0m\u001b[1;33m\u001b[0m\u001b[1;33m\u001b[0m\u001b[0m\n",
       "\u001b[1;31mDocstring:\u001b[0m\n",
       "Drop specified labels from rows or columns.\n",
       "\n",
       "Remove rows or columns by specifying label names and corresponding\n",
       "axis, or by directly specifying index or column names. When using a\n",
       "multi-index, labels on different levels can be removed by specifying\n",
       "the level. See the :ref:`user guide <advanced.shown_levels>`\n",
       "for more information about the now unused levels.\n",
       "\n",
       "Parameters\n",
       "----------\n",
       "labels : single label or list-like\n",
       "    Index or column labels to drop. A tuple will be used as a single\n",
       "    label and not treated as a list-like.\n",
       "axis : {0 or 'index', 1 or 'columns'}, default 0\n",
       "    Whether to drop labels from the index (0 or 'index') or\n",
       "    columns (1 or 'columns').\n",
       "index : single label or list-like\n",
       "    Alternative to specifying axis (``labels, axis=0``\n",
       "    is equivalent to ``index=labels``).\n",
       "columns : single label or list-like\n",
       "    Alternative to specifying axis (``labels, axis=1``\n",
       "    is equivalent to ``columns=labels``).\n",
       "level : int or level name, optional\n",
       "    For MultiIndex, level from which the labels will be removed.\n",
       "inplace : bool, default False\n",
       "    If False, return a copy. Otherwise, do operation\n",
       "    in place and return None.\n",
       "errors : {'ignore', 'raise'}, default 'raise'\n",
       "    If 'ignore', suppress error and only existing labels are\n",
       "    dropped.\n",
       "\n",
       "Returns\n",
       "-------\n",
       "DataFrame or None\n",
       "    Returns DataFrame or None DataFrame with the specified\n",
       "    index or column labels removed or None if inplace=True.\n",
       "\n",
       "Raises\n",
       "------\n",
       "KeyError\n",
       "    If any of the labels is not found in the selected axis.\n",
       "\n",
       "See Also\n",
       "--------\n",
       "DataFrame.loc : Label-location based indexer for selection by label.\n",
       "DataFrame.dropna : Return DataFrame with labels on given axis omitted\n",
       "    where (all or any) data are missing.\n",
       "DataFrame.drop_duplicates : Return DataFrame with duplicate rows\n",
       "    removed, optionally only considering certain columns.\n",
       "Series.drop : Return Series with specified index labels removed.\n",
       "\n",
       "Examples\n",
       "--------\n",
       ">>> df = pd.DataFrame(np.arange(12).reshape(3, 4),\n",
       "...                   columns=['A', 'B', 'C', 'D'])\n",
       ">>> df\n",
       "   A  B   C   D\n",
       "0  0  1   2   3\n",
       "1  4  5   6   7\n",
       "2  8  9  10  11\n",
       "\n",
       "Drop columns\n",
       "\n",
       ">>> df.drop(['B', 'C'], axis=1)\n",
       "   A   D\n",
       "0  0   3\n",
       "1  4   7\n",
       "2  8  11\n",
       "\n",
       ">>> df.drop(columns=['B', 'C'])\n",
       "   A   D\n",
       "0  0   3\n",
       "1  4   7\n",
       "2  8  11\n",
       "\n",
       "Drop a row by index\n",
       "\n",
       ">>> df.drop([0, 1])\n",
       "   A  B   C   D\n",
       "2  8  9  10  11\n",
       "\n",
       "Drop columns and/or rows of MultiIndex DataFrame\n",
       "\n",
       ">>> midx = pd.MultiIndex(levels=[['llama', 'cow', 'falcon'],\n",
       "...                              ['speed', 'weight', 'length']],\n",
       "...                      codes=[[0, 0, 0, 1, 1, 1, 2, 2, 2],\n",
       "...                             [0, 1, 2, 0, 1, 2, 0, 1, 2]])\n",
       ">>> df = pd.DataFrame(index=midx, columns=['big', 'small'],\n",
       "...                   data=[[45, 30], [200, 100], [1.5, 1], [30, 20],\n",
       "...                         [250, 150], [1.5, 0.8], [320, 250],\n",
       "...                         [1, 0.8], [0.3, 0.2]])\n",
       ">>> df\n",
       "                big     small\n",
       "llama   speed   45.0    30.0\n",
       "        weight  200.0   100.0\n",
       "        length  1.5     1.0\n",
       "cow     speed   30.0    20.0\n",
       "        weight  250.0   150.0\n",
       "        length  1.5     0.8\n",
       "falcon  speed   320.0   250.0\n",
       "        weight  1.0     0.8\n",
       "        length  0.3     0.2\n",
       "\n",
       "Drop a specific index combination from the MultiIndex\n",
       "DataFrame, i.e., drop the combination ``'falcon'`` and\n",
       "``'weight'``, which deletes only the corresponding row\n",
       "\n",
       ">>> df.drop(index=('falcon', 'weight'))\n",
       "                big     small\n",
       "llama   speed   45.0    30.0\n",
       "        weight  200.0   100.0\n",
       "        length  1.5     1.0\n",
       "cow     speed   30.0    20.0\n",
       "        weight  250.0   150.0\n",
       "        length  1.5     0.8\n",
       "falcon  speed   320.0   250.0\n",
       "        length  0.3     0.2\n",
       "\n",
       ">>> df.drop(index='cow', columns='small')\n",
       "                big\n",
       "llama   speed   45.0\n",
       "        weight  200.0\n",
       "        length  1.5\n",
       "falcon  speed   320.0\n",
       "        weight  1.0\n",
       "        length  0.3\n",
       "\n",
       ">>> df.drop(index='length', level=1)\n",
       "                big     small\n",
       "llama   speed   45.0    30.0\n",
       "        weight  200.0   100.0\n",
       "cow     speed   30.0    20.0\n",
       "        weight  250.0   150.0\n",
       "falcon  speed   320.0   250.0\n",
       "        weight  1.0     0.8\n",
       "\u001b[1;31mFile:\u001b[0m      c:\\miniconda\\lib\\site-packages\\pandas\\core\\frame.py\n",
       "\u001b[1;31mType:\u001b[0m      method"
      ]
     },
     "metadata": {},
     "output_type": "display_data"
    }
   ],
   "source": [
    "df.drop?"
   ]
  },
  {
   "cell_type": "code",
   "execution_count": null,
   "id": "048efcde",
   "metadata": {},
   "outputs": [],
   "source": []
  },
  {
   "cell_type": "markdown",
   "id": "9c48993e",
   "metadata": {
    "tags": [
     "level_basic"
    ]
   },
   "source": [
    "option 1: on peut utiliser `df.drop()`, l'avantage étant qu'on peut faire l'opération en place"
   ]
  },
  {
   "cell_type": "code",
   "execution_count": 114,
   "id": "a591f595",
   "metadata": {},
   "outputs": [],
   "source": [
    "df.dropna(inplace=True, subset='cLT2FREQ')\n"
   ]
  },
  {
   "cell_type": "code",
   "execution_count": 115,
   "id": "8192a602",
   "metadata": {
    "tags": [
     "raises-exception"
    ]
   },
   "outputs": [
    {
     "data": {
      "text/plain": [
       "True"
      ]
     },
     "execution_count": 115,
     "metadata": {},
     "output_type": "execute_result"
    }
   ],
   "source": [
    "# ceci doit afficher True\n",
    "\n",
    "# la forme après nettoyage\n",
    "df.shape == (7386, 4)"
   ]
  },
  {
   "cell_type": "markdown",
   "id": "b3115e9e",
   "metadata": {},
   "source": [
    "### option 2: sélection avec un masque et `[]`"
   ]
  },
  {
   "cell_type": "code",
   "execution_count": 110,
   "id": "3ccd6efe",
   "metadata": {
    "hide_input": false
   },
   "outputs": [
    {
     "name": "stdout",
     "output_type": "stream",
     "text": [
      "(8403, 4)\n"
     ]
    }
   ],
   "source": [
    "# on recharge à tout hasard (ré-utilisez le code de nettoyage que vous avez réalisé préalablement)\n",
    "df = pd.read_csv(\"data/television.txt\", sep=\"\\t\").dropna(axis=1,how='all')\n",
    "print(df.shape)"
   ]
  },
  {
   "cell_type": "markdown",
   "id": "541d380f",
   "metadata": {
    "tags": [
     "level_basic"
    ]
   },
   "source": [
    "option 2: il y a plein d'autres façons de faire, on peut aussi utiliser tout simplement un masque"
   ]
  },
  {
   "cell_type": "code",
   "execution_count": 124,
   "id": "37dbc248",
   "metadata": {},
   "outputs": [],
   "source": [
    "# à vous\n",
    "df = df[df['cLT2FREQ'].notna()]"
   ]
  },
  {
   "cell_type": "code",
   "execution_count": 125,
   "id": "c4d03b1d",
   "metadata": {
    "tags": [
     "raises-exception"
    ]
   },
   "outputs": [
    {
     "data": {
      "text/plain": [
       "True"
      ]
     },
     "execution_count": 125,
     "metadata": {},
     "output_type": "execute_result"
    }
   ],
   "source": [
    "# ceci doit afficher True\n",
    "\n",
    "# la forme après nettoyage\n",
    "df.shape == (7386, 4)"
   ]
  },
  {
   "cell_type": "markdown",
   "id": "5590f189",
   "metadata": {},
   "source": [
    "## sauver un fichier excel"
   ]
  },
  {
   "cell_type": "code",
   "execution_count": 129,
   "id": "ef7c8fe6",
   "metadata": {},
   "outputs": [
    {
     "name": "stdout",
     "output_type": "stream",
     "text": [
      "Requirement already satisfied: openpyxl in c:\\miniconda\\lib\\site-packages (3.1.5)\n",
      "Requirement already satisfied: et-xmlfile in c:\\miniconda\\lib\\site-packages (from openpyxl) (1.1.0)\n"
     ]
    }
   ],
   "source": [
    "!pip install openpyxl"
   ]
  },
  {
   "cell_type": "markdown",
   "id": "ffd9b2b9",
   "metadata": {
    "hide_input": true,
    "tags": [
     "level_basic"
    ]
   },
   "source": [
    "je vous laisse conclure le TP, il s'agit d'enregistrer nos données nettoyées dans un fichier excel"
   ]
  },
  {
   "cell_type": "code",
   "execution_count": 130,
   "id": "b58c2390",
   "metadata": {},
   "outputs": [
    {
     "data": {
      "text/html": [
       "<div>\n",
       "<style scoped>\n",
       "    .dataframe tbody tr th:only-of-type {\n",
       "        vertical-align: middle;\n",
       "    }\n",
       "\n",
       "    .dataframe tbody tr th {\n",
       "        vertical-align: top;\n",
       "    }\n",
       "\n",
       "    .dataframe thead th {\n",
       "        text-align: right;\n",
       "    }\n",
       "</style>\n",
       "<table border=\"1\" class=\"dataframe\">\n",
       "  <thead>\n",
       "    <tr style=\"text-align: right;\">\n",
       "      <th></th>\n",
       "      <th>POIDLOG</th>\n",
       "      <th>POIDSF</th>\n",
       "      <th>cLT1FREQ</th>\n",
       "      <th>cLT2FREQ</th>\n",
       "    </tr>\n",
       "  </thead>\n",
       "  <tbody>\n",
       "    <tr>\n",
       "      <th>0</th>\n",
       "      <td>0.889422</td>\n",
       "      <td>4766.865201</td>\n",
       "      <td>2</td>\n",
       "      <td>1.0</td>\n",
       "    </tr>\n",
       "    <tr>\n",
       "      <th>1</th>\n",
       "      <td>2.310209</td>\n",
       "      <td>12381.589746</td>\n",
       "      <td>30</td>\n",
       "      <td>1.0</td>\n",
       "    </tr>\n",
       "    <tr>\n",
       "      <th>2</th>\n",
       "      <td>2.740070</td>\n",
       "      <td>14685.431344</td>\n",
       "      <td>6</td>\n",
       "      <td>2.0</td>\n",
       "    </tr>\n",
       "    <tr>\n",
       "      <th>3</th>\n",
       "      <td>1.775545</td>\n",
       "      <td>9516.049939</td>\n",
       "      <td>1</td>\n",
       "      <td>1.0</td>\n",
       "    </tr>\n",
       "    <tr>\n",
       "      <th>4</th>\n",
       "      <td>0.732512</td>\n",
       "      <td>3925.907588</td>\n",
       "      <td>3</td>\n",
       "      <td>1.0</td>\n",
       "    </tr>\n",
       "    <tr>\n",
       "      <th>...</th>\n",
       "      <td>...</td>\n",
       "      <td>...</td>\n",
       "      <td>...</td>\n",
       "      <td>...</td>\n",
       "    </tr>\n",
       "    <tr>\n",
       "      <th>8397</th>\n",
       "      <td>0.502091</td>\n",
       "      <td>2690.961176</td>\n",
       "      <td>3</td>\n",
       "      <td>1.0</td>\n",
       "    </tr>\n",
       "    <tr>\n",
       "      <th>8398</th>\n",
       "      <td>0.306852</td>\n",
       "      <td>1644.574141</td>\n",
       "      <td>6</td>\n",
       "      <td>1.0</td>\n",
       "    </tr>\n",
       "    <tr>\n",
       "      <th>8399</th>\n",
       "      <td>2.501181</td>\n",
       "      <td>13405.104689</td>\n",
       "      <td>6</td>\n",
       "      <td>1.0</td>\n",
       "    </tr>\n",
       "    <tr>\n",
       "      <th>8400</th>\n",
       "      <td>1.382758</td>\n",
       "      <td>7410.905653</td>\n",
       "      <td>1</td>\n",
       "      <td>1.0</td>\n",
       "    </tr>\n",
       "    <tr>\n",
       "      <th>8401</th>\n",
       "      <td>0.343340</td>\n",
       "      <td>1840.132652</td>\n",
       "      <td>3</td>\n",
       "      <td>1.0</td>\n",
       "    </tr>\n",
       "  </tbody>\n",
       "</table>\n",
       "<p>7386 rows × 4 columns</p>\n",
       "</div>"
      ],
      "text/plain": [
       "       POIDLOG        POIDSF  cLT1FREQ  cLT2FREQ\n",
       "0     0.889422   4766.865201         2       1.0\n",
       "1     2.310209  12381.589746        30       1.0\n",
       "2     2.740070  14685.431344         6       2.0\n",
       "3     1.775545   9516.049939         1       1.0\n",
       "4     0.732512   3925.907588         3       1.0\n",
       "...        ...           ...       ...       ...\n",
       "8397  0.502091   2690.961176         3       1.0\n",
       "8398  0.306852   1644.574141         6       1.0\n",
       "8399  2.501181  13405.104689         6       1.0\n",
       "8400  1.382758   7410.905653         1       1.0\n",
       "8401  0.343340   1840.132652         3       1.0\n",
       "\n",
       "[7386 rows x 4 columns]"
      ]
     },
     "execution_count": 130,
     "metadata": {},
     "output_type": "execute_result"
    }
   ],
   "source": [
    "# à vous\n",
    "\n",
    "df.to_excel( \"television.xlsx\")\n",
    "df"
   ]
  },
  {
   "cell_type": "markdown",
   "id": "8522fdf3",
   "metadata": {},
   "source": [
    "je vous laisse éventuellement vérifier votre code en rechargeant sous excel le fichier produit"
   ]
  },
  {
   "cell_type": "markdown",
   "id": "03dbc347",
   "metadata": {},
   "source": [
    "![](media/television.png)"
   ]
  },
  {
   "cell_type": "markdown",
   "id": "57bd1c93",
   "metadata": {},
   "source": [
    "***"
   ]
  }
 ],
 "metadata": {
  "jupytext": {
   "cell_metadata_filter": "all, -hidden, -heading_collapsed, -run_control, -trusted",
   "encoding": "# -*- coding: utf-8 -*-",
   "notebook_metadata_filter": "all, -jupytext.text_representation.jupytext_version, -jupytext.text_representation.format_version, -language_info.version, -language_info.codemirror_mode.version, -language_info.codemirror_mode, -language_info.file_extension, -language_info.mimetype, -toc"
  },
  "kernelspec": {
   "display_name": "Python 3 (ipykernel)",
   "language": "python",
   "name": "python3"
  },
  "language_info": {
   "codemirror_mode": {
    "name": "ipython",
    "version": 3
   },
   "file_extension": ".py",
   "mimetype": "text/x-python",
   "name": "python",
   "nbconvert_exporter": "python",
   "pygments_lexer": "ipython3",
   "version": "3.12.4"
  },
  "nbhosting": {
   "show_up_down_buttons": true,
   "title": "exo nettoyage"
  }
 },
 "nbformat": 4,
 "nbformat_minor": 5
}
